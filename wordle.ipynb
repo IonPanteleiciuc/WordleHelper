{
 "cells": [
  {
   "cell_type": "code",
   "execution_count": 1,
   "metadata": {},
   "outputs": [],
   "source": [
    "import numpy as np\n",
    "import pandas as pd\n",
    "import matplotlib.pyplot as plt\n",
    "import random as rd\n",
    "from tqdm import tqdm"
   ]
  },
  {
   "cell_type": "code",
   "execution_count": 2,
   "metadata": {},
   "outputs": [],
   "source": [
    "dataset = np.array([word.replace('\\n', '') for word in open('sgb-words.txt')])"
   ]
  },
  {
   "cell_type": "code",
   "execution_count": null,
   "metadata": {},
   "outputs": [],
   "source": [
    "🌖"
   ]
  },
  {
   "cell_type": "code",
   "execution_count": 3,
   "metadata": {},
   "outputs": [],
   "source": [
    "def choseInitialWord():\n",
    "  return dataset[rd.randint(0, len(dataset) - 1)]\n",
    "\n",
    "wordToGuess = choseInitialWord()"
   ]
  },
  {
   "cell_type": "code",
   "execution_count": 4,
   "metadata": {},
   "outputs": [],
   "source": [
    "dico = dataset.copy()"
   ]
  },
  {
   "cell_type": "code",
   "execution_count": 5,
   "metadata": {},
   "outputs": [],
   "source": [
    "def getDicoScores(availableWords):\n",
    "  flatten = ''.join(availableWords)\n",
    "  availableLetters = np.unique(list(flatten))\n",
    "  \n",
    "  return {char:  flatten.count(char) / len(flatten) for char in availableLetters}\n",
    "\n",
    "def getWordScore(word, dico):\n",
    "  return np.sum([getDicoScores(dico)[l] for l in word])"
   ]
  },
  {
   "cell_type": "code",
   "execution_count": 11,
   "metadata": {},
   "outputs": [],
   "source": [
    "def wordle(guess, dico, params):\n",
    "  for idx, l in enumerate(guess):\n",
    "    isPresent = False\n",
    "    isCorrectIndex = False\n",
    "\n",
    "    if params[idx] != 0: \n",
    "\n",
    "      if params[idx] == 1:\n",
    "        isPresent = True\n",
    "        isCorrectIndex = False\n",
    "      \n",
    "      elif params[idx] == 2:\n",
    "        isPresent = True\n",
    "        isCorrectIndex = True\n",
    "\n",
    "    if not isPresent:     \n",
    "      flags = [l not in word for word in dico]\n",
    "      dico = dico[flags]\n",
    "    \n",
    "    elif isPresent and not isCorrectIndex:\n",
    "      flags = [(word[idx] != l) and (l in word) for word in dico]\n",
    "      dico = dico[flags]\n",
    "\n",
    "\n",
    "    elif isPresent and isCorrectIndex:\n",
    "      flags = [word[idx] == l for word in dico]\n",
    "      dico = dico[flags]\n",
    "\n",
    "  freqPerAvailableWord = [getWordScore(word, dico) for word in tqdm(dico)]\n",
    "    \n",
    "  return dico, dico[np.argmax(freqPerAvailableWord)]"
   ]
  },
  {
   "cell_type": "code",
   "execution_count": 7,
   "metadata": {},
   "outputs": [
    {
     "name": "stderr",
     "output_type": "stream",
     "text": [
      "100%|██████████| 5757/5757 [03:47<00:00, 25.30it/s]\n"
     ]
    }
   ],
   "source": [
    "res = [getWordScore(word, dico) for word in tqdm(dico)]"
   ]
  },
  {
   "cell_type": "code",
   "execution_count": 9,
   "metadata": {},
   "outputs": [
    {
     "data": {
      "text/plain": [
       "'esses'"
      ]
     },
     "execution_count": 9,
     "metadata": {},
     "output_type": "execute_result"
    }
   ],
   "source": [
    "dico[np.argmax(res)]"
   ]
  },
  {
   "cell_type": "code",
   "execution_count": 14,
   "metadata": {},
   "outputs": [
    {
     "name": "stderr",
     "output_type": "stream",
     "text": [
      "100%|██████████| 709/709 [00:03<00:00, 178.58it/s]\n"
     ]
    },
    {
     "data": {
      "text/plain": [
       "(array(['other', 'water', 'after', 'three', 'never', 'under', 'often',\n",
       "        'paper', 'given', 'later', 'money', 'order', 'power', 'lived',\n",
       "        'vowel', 'taken', 'green', 'river', 'tried', 'added', 'moved',\n",
       "        'cried', 'named', 'women', 'lower', 'level', 'cover', 'liked',\n",
       "        'quiet', 'chief', 'tired', 'older', 'wheel', 'upper', 'loved',\n",
       "        'model', 'threw', 'mixed', 'agree', 'offer', 'dozen', 'outer',\n",
       "        'ruler', 'fixed', 'layer', 'hoped', 'dried', 'refer', 'queen',\n",
       "        'anger', 'brief', 'owned', 'noted', 'owner', 'meter', 'tower',\n",
       "        'inner', 'label', 'hotel', 'faced', 'raced', 'waved', 'fewer',\n",
       "        'index', 'waxed', 'fired', 'ruled', 'fever', 'armed', 'honey',\n",
       "        'lever', 'hated', 'novel', 'token', 'rider', 'wider', 'tiger',\n",
       "        'angel', 'cruel', 'urged', 'acted', 'queer', 'cheek', 'creek',\n",
       "        'fleet', 'baked', 'wiped', 'piled', 'cheer', 'linen', 'woven',\n",
       "        'hired', 'bowed', 'diver', 'naked', 'dared', 'faded', 'thief',\n",
       "        'voted', 'cared', 'panel', 'gazed', 'camel', 'grief', 'fiber',\n",
       "        'freed', 'aimed', 'tuned', 'dived', 'liver', 'breed', 'fried',\n",
       "        'bored', 'lover', 'mined', 'towel', 'rodeo', 'greet', 'utter',\n",
       "        'paved', 'alley', 'alter', 'poked', 'maker', 'creep', 'rowed',\n",
       "        'newer', 'motel', 'alien', 'filed', 'rebel', 'finer', 'buyer',\n",
       "        'aided', 'waded', 'cured', 'tamed', 'glued', 'otter', 'ached',\n",
       "        'raged', 'typed', 'bevel', 'wired', 'repel', 'dated', 'baker',\n",
       "        'drier', 'piped', 'boxer', 'cited', 'laden', 'jewel', 'rated',\n",
       "        'liner', 'comet', 'miner', 'rivet', 'timed', 'renew', 'paced',\n",
       "        'cider', 'taper', 'taxed', 'raked', 'towed', 'dozed', 'widen',\n",
       "        'amber', 'dined', 'inlet', 'greed', 'laced', 'nicer', 'ripen',\n",
       "        'mowed', 'vowed', 'annex', 'pixel', 'bared', 'auger', 'bleed',\n",
       "        'roped', 'mower', 'infer', 'waged', 'kneel', 'hazel', 'lined',\n",
       "        'creed', 'muted', 'boxed', 'haven', 'caked', 'poker', 'olden',\n",
       "        'voter', 'fined', 'gaped', 'hiked', 'totem', 'latex', 'hover',\n",
       "        'tweed', 'dryer', 'vexed', 'wager', 'homer', 'tiled', 'waked',\n",
       "        'inked', 'flier', 'plied', 'ulcer', 'caged', 'diner', 'taped',\n",
       "        'cadet', 'liter', 'joked', 'lured', 'covet', 'alder', 'tepee',\n",
       "        'foyer', 'fared', 'deter', 'dowel', 'coded', 'waver', 'dazed',\n",
       "        'oozed', 'freer', 'paled', 'pawed', 'waned', 'rarer', 'oaken',\n",
       "        'flyer', 'miter', 'domed', 'cheep', 'keyed', 'revel', 'raven',\n",
       "        'truer', 'facet', 'leper', 'cater', 'beret', 'rover', 'abbey',\n",
       "        'waken', 'fumed', 'purer', 'mired', 'gruel', 'navel', 'paler',\n",
       "        'gavel', 'defer', 'viper', 'hewed', 'waxen', 'pored', 'loped',\n",
       "        'valet', 'caper', 'famed', 'robed', 'cooed', 'booed', 'poled',\n",
       "        'gayer', 'faked', 'video', 'meted', 'impel', 'gooey', 'mewed',\n",
       "        'cubed', 'lamed', 'mated', 'tuber', 'udder', 'preen', 'adder',\n",
       "        'baled', 'hovel', 'razed', 'doted', 'yoked', 'wooed', 'pined',\n",
       "        'mooed', 'odder', 'levee', 'joker', 'bogey', 'doled', 'coped',\n",
       "        'aired', 'yodel', 'jaded', 'upped', 'doped', 'woken', 'toted',\n",
       "        'vixen', 'civet', 'homey', 'moped', 'ravel', 'liken', 'idler',\n",
       "        'duped', 'filet', 'covey', 'lapel', 'bowel', 'bayed', 'wafer',\n",
       "        'ceded', 'pried', 'irked', 'bluer', 'wowed', 'flied', 'feted',\n",
       "        'jibed', 'diced', 'foxed', 'idled', 'cower', 'toyed', 'racer',\n",
       "        'ailed', 'abler', 'boned', 'raved', 'tamer', 'cowed', 'zoned',\n",
       "        'roved', 'toned', 'pared', 'cruet', 'bided', 'pokey', 'viler',\n",
       "        'diked', 'lowed', 'biked', 'caned', 'boner', 'huger', 'arced',\n",
       "        'cored', 'jawed', 'clued', 'vireo', 'cuter', 'riper', 'fogey',\n",
       "        'ruder', 'pewee', 'icier', 'bagel', 'hexed', 'goner', 'paged',\n",
       "        'barer', 'lamer', 'oiled', 'adieu', 'mixer', 'brier', 'tuner',\n",
       "        'timer', 'pacer', 'giver', 'codex', 'unwed', 'crier', 'inter',\n",
       "        'mover', 'piper', 'waxer', 'piney', 'harem', 'bower', 'caved',\n",
       "        'hymen', 'libel', 'greek', 'roger', 'beget', 'raped', 'matey',\n",
       "        'xylem', 'cawed', 'peter', 'gored', 'rupee', 'fated', 'wiper',\n",
       "        'roper', 'cameo', 'comer', 'borer', 'caped', 'riled', 'umber',\n",
       "        'miler', 'bated', 'mater', 'umped', 'puree', 'caret', 'newel',\n",
       "        'treed', 'loner', 'titer', 'liven', 'opted', 'hiker', 'yokel',\n",
       "        'toner', 'bidet', 'baler', 'holed', 'melee', 'honed', 'maned',\n",
       "        'laver', 'motet', 'blued', 'dewey', 'taker', 'unfed', 'lager',\n",
       "        'kneed', 'julep', 'cagey', 'betel', 'lacey', 'fryer', 'tenet',\n",
       "        'ogled', 'rumen', 'riven', 'lifer', 'gazer', 'lumen', 'boded',\n",
       "        'lobed', 'payer', 'laxer', 'payee', 'babel', 'outen', 'hooey',\n",
       "        'faker', 'biter', 'dicey', 'hewer', 'hater', 'nixed', 'creel',\n",
       "        'pater', 'gamed', 'hayed', 'puked', 'fiver', 'coder', 'namer',\n",
       "        'haled', 'telex', 'gamey', 'coned', 'rower', 'biped', 'hokey',\n",
       "        'maven', 'mimed', 'paned', 'gofer', 'octet', 'homed', 'anted',\n",
       "        'hyper', 'gated', 'dimer', 'wined', 'raper', 'pager', 'fixer',\n",
       "        'kopek', 'gibed', 'wader', 'owlet', 'corer', 'raker', 'hazed',\n",
       "        'biker', 'doyen', 'jived', 'cager', 'ivied', 'rawer', 'unmet',\n",
       "        'toked', 'hawed', 'toker', 'doper', 'rewed', 'mimeo', 'faxed',\n",
       "        'duper', 'ogler', 'waled', 'dopey', 'fazed', 'tweet', 'hider',\n",
       "        'nuked', 'wooer', 'hyped', 'modem', 'toped', 'coxed', 'anded',\n",
       "        'piker', 'aimer', 'klieg', 'toper', 'duvet', 'limey', 'hirer',\n",
       "        'taxer', 'wryer', 'coked', 'gimel', 'admen', 'offen', 'gluey',\n",
       "        'parer', 'miked', 'dozer', 'oncet', 'rimed', 'limed', 'payed',\n",
       "        'yawed', 'kited', 'ouzel', 'axmen', 'wheee', 'rayed', 'lazed',\n",
       "        'feued', 'dower', 'ocher', 'tared', 'herem', 'limen', 'coney',\n",
       "        'wiled', 'darer', 'hayey', 'dweeb', 'imbed', 'wifey', 'liker',\n",
       "        'acked', 'vower', 'tiler', 'tided', 'haler', 'facer', 'trier',\n",
       "        'airer', 'nuder', 'joyed', 'faxer', 'celeb', 'mazed', 'wirer',\n",
       "        'carer', 'rater', 'pooey', 'buret', 'bedew', 'oared', 'pryer',\n",
       "        'winey', 'giber', 'tacet', 'coyer', 'gamer', 'noter', 'orbed',\n",
       "        'pipet', 'raver', 'riced', 'mimer', 'caner', 'jiber', 'waker',\n",
       "        'aider', 'prier', 'golem', 'firer', 'umbel', 'unpeg', 'fovea',\n",
       "        'vined', 'loper', 'tater', 'weber', 'coven', 'relet', 'trued',\n",
       "        'lurer', 'inker', 'oiler', 'dater', 'voxel', 'rived', 'hoper',\n",
       "        'hayer', 'hived', 'plyer', 'niter', 'revet', 'gyved', 'honer',\n",
       "        'dicer', 'fumer', 'amped', 'zooey', 'moper', 'mazer', 'paver',\n",
       "        'pawer', 'maced', 'tubed', 'ganef', 'vaned', 'acned', 'bezel',\n",
       "        'frier', 'fader', 'guyed', 'genet', 'filer', 'poxed', 'abled',\n",
       "        'toyer', 'muter', 'ftped', 'hiver', 'gaper', 'paten', 'hazer',\n",
       "        'urger', 'paren', 'ricer', 'wowee', 'morel', 'razer', 'donee',\n",
       "        'mohel', 'ceder', 'muley', 'oaten', 'axled', 'proem', 'agley',\n",
       "        'xored', 'laker', 'wizen', 'rifer', 'laded', 'cozen', 'coper',\n",
       "        'offed', 'holer', 'doter', 'toter', 'macer', 'poler', 'bider',\n",
       "        'hexer', 'gluer', 'lacer', 'luted', 'keyer', 'rimer', 'dewed',\n",
       "        'dovey', 'holey', 'cuber', 'apnea', 'fuzed', 'direr', 'wrier',\n",
       "        'curer', 'laved'], dtype='<U5'),\n",
       " 'melee')"
      ]
     },
     "execution_count": 14,
     "metadata": {},
     "output_type": "execute_result"
    }
   ],
   "source": [
    "wordle('esses', dico, [1, 0, 0, 2, 0])"
   ]
  },
  {
   "cell_type": "code",
   "execution_count": 16,
   "metadata": {},
   "outputs": [
    {
     "name": "stderr",
     "output_type": "stream",
     "text": [
      "100%|██████████| 709/709 [00:03<00:00, 195.23it/s]\n",
      "100%|██████████| 47/47 [00:00<00:00, 2450.19it/s]\n"
     ]
    },
    {
     "data": {
      "text/plain": [
       "array(['taken', 'quiet', 'acted', 'fleet', 'tuned', 'tamed', 'typed',\n",
       "       'dated', 'cited', 'timed', 'taxed', 'inlet', 'muted', 'latex',\n",
       "       'tweed', 'tiled', 'taped', 'cadet', 'tepee', 'facet', 'valet',\n",
       "       'meted', 'mated', 'civet', 'filet', 'feted', 'beget', 'matey',\n",
       "       'fated', 'bated', 'bidet', 'betel', 'tenet', 'telex', 'anted',\n",
       "       'gated', 'unmet', 'tweet', 'duvet', 'kited', 'tided', 'tacet',\n",
       "       'pipet', 'tubed', 'genet', 'paten', 'luted'], dtype='<U5')"
      ]
     },
     "execution_count": 16,
     "metadata": {},
     "output_type": "execute_result"
    }
   ],
   "source": [
    "newDico = wordle('esses', dico, [1, 0, 0, 2, 0])[0]\n",
    "newDico2 = wordle('other', newDico, [0, 1, 0, 2, 0])[0]\n",
    "newDico2\n",
    "# newDico3 = wordle('yummy', newDico2, [0, 0, 0, 0, 0])[0]\n",
    "# newDico4 = wordle('vivid', newDico2, [0, 2, 0, 2, 1])"
   ]
  },
  {
   "cell_type": "code",
   "execution_count": 390,
   "metadata": {},
   "outputs": [
    {
     "data": {
      "text/plain": [
       "(array(['digit', 'dixit'], dtype='<U5'), 'digit')"
      ]
     },
     "execution_count": 390,
     "metadata": {},
     "output_type": "execute_result"
    }
   ],
   "source": [
    "class Wordle():\n",
    "  def __init__(self):\n",
    "    self.dataset = np.array([word.replace('\\n', '') for word in open('sgb-words.txt')])\n",
    "    self.dico = self.dataset.copy()\n",
    "\n",
    "  def getDicoScores(availableWords):\n",
    "    flatten = ''.join(availableWords)\n",
    "    availableLetters = np.unique(list(flatten))\n",
    "    \n",
    "    return {char:  flatten.count(char) / len(flatten) for char in availableLetters}\n",
    "\n",
    "  def getWordScore(word, dico):\n",
    "    return np.sum([getDicoScores(dico)[l] for l in word])\n",
    "  "
   ]
  },
  {
   "cell_type": "code",
   "execution_count": null,
   "metadata": {},
   "outputs": [],
   "source": []
  }
 ],
 "metadata": {
  "kernelspec": {
   "display_name": "base",
   "language": "python",
   "name": "python3"
  },
  "language_info": {
   "codemirror_mode": {
    "name": "ipython",
    "version": 3
   },
   "file_extension": ".py",
   "mimetype": "text/x-python",
   "name": "python",
   "nbconvert_exporter": "python",
   "pygments_lexer": "ipython3",
   "version": "3.11.4"
  },
  "orig_nbformat": 4
 },
 "nbformat": 4,
 "nbformat_minor": 2
}
